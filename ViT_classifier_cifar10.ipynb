{
  "nbformat": 4,
  "nbformat_minor": 0,
  "metadata": {
    "colab": {
      "provenance": [],
      "gpuType": "T4",
      "authorship_tag": "ABX9TyNl9t9SbrGVmppCvNGRNxqF",
      "include_colab_link": true
    },
    "kernelspec": {
      "name": "python3",
      "display_name": "Python 3"
    },
    "language_info": {
      "name": "python"
    },
    "accelerator": "GPU"
  },
  "cells": [
    {
      "cell_type": "markdown",
      "metadata": {
        "id": "view-in-github",
        "colab_type": "text"
      },
      "source": [
        "<a href=\"https://colab.research.google.com/github/nischay-32/Vision-Transfromer/blob/main/ViT_classifier_cifar10.ipynb\" target=\"_parent\"><img src=\"https://colab.research.google.com/assets/colab-badge.svg\" alt=\"Open In Colab\"/></a>"
      ]
    },
    {
      "cell_type": "code",
      "execution_count": 1,
      "metadata": {
        "colab": {
          "base_uri": "https://localhost:8080/"
        },
        "id": "hp08pq2zoskc",
        "outputId": "3d028572-ddf6-4ef1-cb5d-a78c1769b419"
      },
      "outputs": [
        {
          "output_type": "stream",
          "name": "stdout",
          "text": [
            "Requirement already satisfied: tensorflow in /usr/local/lib/python3.12/dist-packages (2.19.0)\n",
            "Requirement already satisfied: absl-py>=1.0.0 in /usr/local/lib/python3.12/dist-packages (from tensorflow) (1.4.0)\n",
            "Requirement already satisfied: astunparse>=1.6.0 in /usr/local/lib/python3.12/dist-packages (from tensorflow) (1.6.3)\n",
            "Requirement already satisfied: flatbuffers>=24.3.25 in /usr/local/lib/python3.12/dist-packages (from tensorflow) (25.2.10)\n",
            "Requirement already satisfied: gast!=0.5.0,!=0.5.1,!=0.5.2,>=0.2.1 in /usr/local/lib/python3.12/dist-packages (from tensorflow) (0.6.0)\n",
            "Requirement already satisfied: google-pasta>=0.1.1 in /usr/local/lib/python3.12/dist-packages (from tensorflow) (0.2.0)\n",
            "Requirement already satisfied: libclang>=13.0.0 in /usr/local/lib/python3.12/dist-packages (from tensorflow) (18.1.1)\n",
            "Requirement already satisfied: opt-einsum>=2.3.2 in /usr/local/lib/python3.12/dist-packages (from tensorflow) (3.4.0)\n",
            "Requirement already satisfied: packaging in /usr/local/lib/python3.12/dist-packages (from tensorflow) (25.0)\n",
            "Requirement already satisfied: protobuf!=4.21.0,!=4.21.1,!=4.21.2,!=4.21.3,!=4.21.4,!=4.21.5,<6.0.0dev,>=3.20.3 in /usr/local/lib/python3.12/dist-packages (from tensorflow) (5.29.5)\n",
            "Requirement already satisfied: requests<3,>=2.21.0 in /usr/local/lib/python3.12/dist-packages (from tensorflow) (2.32.4)\n",
            "Requirement already satisfied: setuptools in /usr/local/lib/python3.12/dist-packages (from tensorflow) (75.2.0)\n",
            "Requirement already satisfied: six>=1.12.0 in /usr/local/lib/python3.12/dist-packages (from tensorflow) (1.17.0)\n",
            "Requirement already satisfied: termcolor>=1.1.0 in /usr/local/lib/python3.12/dist-packages (from tensorflow) (3.1.0)\n",
            "Requirement already satisfied: typing-extensions>=3.6.6 in /usr/local/lib/python3.12/dist-packages (from tensorflow) (4.14.1)\n",
            "Requirement already satisfied: wrapt>=1.11.0 in /usr/local/lib/python3.12/dist-packages (from tensorflow) (1.17.3)\n",
            "Requirement already satisfied: grpcio<2.0,>=1.24.3 in /usr/local/lib/python3.12/dist-packages (from tensorflow) (1.74.0)\n",
            "Requirement already satisfied: tensorboard~=2.19.0 in /usr/local/lib/python3.12/dist-packages (from tensorflow) (2.19.0)\n",
            "Requirement already satisfied: keras>=3.5.0 in /usr/local/lib/python3.12/dist-packages (from tensorflow) (3.10.0)\n",
            "Requirement already satisfied: numpy<2.2.0,>=1.26.0 in /usr/local/lib/python3.12/dist-packages (from tensorflow) (2.0.2)\n",
            "Requirement already satisfied: h5py>=3.11.0 in /usr/local/lib/python3.12/dist-packages (from tensorflow) (3.14.0)\n",
            "Requirement already satisfied: ml-dtypes<1.0.0,>=0.5.1 in /usr/local/lib/python3.12/dist-packages (from tensorflow) (0.5.3)\n",
            "Requirement already satisfied: wheel<1.0,>=0.23.0 in /usr/local/lib/python3.12/dist-packages (from astunparse>=1.6.0->tensorflow) (0.45.1)\n",
            "Requirement already satisfied: rich in /usr/local/lib/python3.12/dist-packages (from keras>=3.5.0->tensorflow) (13.9.4)\n",
            "Requirement already satisfied: namex in /usr/local/lib/python3.12/dist-packages (from keras>=3.5.0->tensorflow) (0.1.0)\n",
            "Requirement already satisfied: optree in /usr/local/lib/python3.12/dist-packages (from keras>=3.5.0->tensorflow) (0.17.0)\n",
            "Requirement already satisfied: charset_normalizer<4,>=2 in /usr/local/lib/python3.12/dist-packages (from requests<3,>=2.21.0->tensorflow) (3.4.3)\n",
            "Requirement already satisfied: idna<4,>=2.5 in /usr/local/lib/python3.12/dist-packages (from requests<3,>=2.21.0->tensorflow) (3.10)\n",
            "Requirement already satisfied: urllib3<3,>=1.21.1 in /usr/local/lib/python3.12/dist-packages (from requests<3,>=2.21.0->tensorflow) (2.5.0)\n",
            "Requirement already satisfied: certifi>=2017.4.17 in /usr/local/lib/python3.12/dist-packages (from requests<3,>=2.21.0->tensorflow) (2025.8.3)\n",
            "Requirement already satisfied: markdown>=2.6.8 in /usr/local/lib/python3.12/dist-packages (from tensorboard~=2.19.0->tensorflow) (3.8.2)\n",
            "Requirement already satisfied: tensorboard-data-server<0.8.0,>=0.7.0 in /usr/local/lib/python3.12/dist-packages (from tensorboard~=2.19.0->tensorflow) (0.7.2)\n",
            "Requirement already satisfied: werkzeug>=1.0.1 in /usr/local/lib/python3.12/dist-packages (from tensorboard~=2.19.0->tensorflow) (3.1.3)\n",
            "Requirement already satisfied: MarkupSafe>=2.1.1 in /usr/local/lib/python3.12/dist-packages (from werkzeug>=1.0.1->tensorboard~=2.19.0->tensorflow) (3.0.2)\n",
            "Requirement already satisfied: markdown-it-py>=2.2.0 in /usr/local/lib/python3.12/dist-packages (from rich->keras>=3.5.0->tensorflow) (4.0.0)\n",
            "Requirement already satisfied: pygments<3.0.0,>=2.13.0 in /usr/local/lib/python3.12/dist-packages (from rich->keras>=3.5.0->tensorflow) (2.19.2)\n",
            "Requirement already satisfied: mdurl~=0.1 in /usr/local/lib/python3.12/dist-packages (from markdown-it-py>=2.2.0->rich->keras>=3.5.0->tensorflow) (0.1.2)\n",
            "Requirement already satisfied: keras in /usr/local/lib/python3.12/dist-packages (3.10.0)\n",
            "Requirement already satisfied: absl-py in /usr/local/lib/python3.12/dist-packages (from keras) (1.4.0)\n",
            "Requirement already satisfied: numpy in /usr/local/lib/python3.12/dist-packages (from keras) (2.0.2)\n",
            "Requirement already satisfied: rich in /usr/local/lib/python3.12/dist-packages (from keras) (13.9.4)\n",
            "Requirement already satisfied: namex in /usr/local/lib/python3.12/dist-packages (from keras) (0.1.0)\n",
            "Requirement already satisfied: h5py in /usr/local/lib/python3.12/dist-packages (from keras) (3.14.0)\n",
            "Requirement already satisfied: optree in /usr/local/lib/python3.12/dist-packages (from keras) (0.17.0)\n",
            "Requirement already satisfied: ml-dtypes in /usr/local/lib/python3.12/dist-packages (from keras) (0.5.3)\n",
            "Requirement already satisfied: packaging in /usr/local/lib/python3.12/dist-packages (from keras) (25.0)\n",
            "Requirement already satisfied: typing-extensions>=4.6.0 in /usr/local/lib/python3.12/dist-packages (from optree->keras) (4.14.1)\n",
            "Requirement already satisfied: markdown-it-py>=2.2.0 in /usr/local/lib/python3.12/dist-packages (from rich->keras) (4.0.0)\n",
            "Requirement already satisfied: pygments<3.0.0,>=2.13.0 in /usr/local/lib/python3.12/dist-packages (from rich->keras) (2.19.2)\n",
            "Requirement already satisfied: mdurl~=0.1 in /usr/local/lib/python3.12/dist-packages (from markdown-it-py>=2.2.0->rich->keras) (0.1.2)\n",
            "Requirement already satisfied: matplotlib in /usr/local/lib/python3.12/dist-packages (3.10.0)\n",
            "Requirement already satisfied: contourpy>=1.0.1 in /usr/local/lib/python3.12/dist-packages (from matplotlib) (1.3.3)\n",
            "Requirement already satisfied: cycler>=0.10 in /usr/local/lib/python3.12/dist-packages (from matplotlib) (0.12.1)\n",
            "Requirement already satisfied: fonttools>=4.22.0 in /usr/local/lib/python3.12/dist-packages (from matplotlib) (4.59.1)\n",
            "Requirement already satisfied: kiwisolver>=1.3.1 in /usr/local/lib/python3.12/dist-packages (from matplotlib) (1.4.9)\n",
            "Requirement already satisfied: numpy>=1.23 in /usr/local/lib/python3.12/dist-packages (from matplotlib) (2.0.2)\n",
            "Requirement already satisfied: packaging>=20.0 in /usr/local/lib/python3.12/dist-packages (from matplotlib) (25.0)\n",
            "Requirement already satisfied: pillow>=8 in /usr/local/lib/python3.12/dist-packages (from matplotlib) (11.3.0)\n",
            "Requirement already satisfied: pyparsing>=2.3.1 in /usr/local/lib/python3.12/dist-packages (from matplotlib) (3.2.3)\n",
            "Requirement already satisfied: python-dateutil>=2.7 in /usr/local/lib/python3.12/dist-packages (from matplotlib) (2.9.0.post0)\n",
            "Requirement already satisfied: six>=1.5 in /usr/local/lib/python3.12/dist-packages (from python-dateutil>=2.7->matplotlib) (1.17.0)\n"
          ]
        }
      ],
      "source": [
        "!pip install tensorflow\n",
        "!pip install keras\n",
        "!pip install matplotlib"
      ]
    },
    {
      "cell_type": "code",
      "source": [
        "#import libraries\n",
        "import numpy as np\n",
        "import tensorflow as tf\n",
        "from tensorflow import keras\n",
        "from tensorflow.keras import layers\n",
        "import warnings\n",
        "# Ignore warnings\n",
        "warnings.filterwarnings(\"ignore\")"
      ],
      "metadata": {
        "id": "pldbgcDJpD1V"
      },
      "execution_count": 2,
      "outputs": []
    },
    {
      "cell_type": "code",
      "source": [
        "num_classes = 10\n",
        "input_shape = (32,32,3)\n",
        "\n",
        "(x_train, y_train), (x_test, y_test) = keras.datasets.cifar10.load_data()\n",
        "\n",
        "print(f\"x_train shape: {x_train.shape} - y_train shape: {y_train.shape}\")\n",
        "print(f\"x_test shape: {x_test.shape} - y_test shape: {y_test.shape}\")"
      ],
      "metadata": {
        "colab": {
          "base_uri": "https://localhost:8080/"
        },
        "id": "uHYJ7oVwpL6p",
        "outputId": "8f655d57-b231-4c61-f350-5e0c219f14bd"
      },
      "execution_count": 3,
      "outputs": [
        {
          "output_type": "stream",
          "name": "stdout",
          "text": [
            "Downloading data from https://www.cs.toronto.edu/~kriz/cifar-10-python.tar.gz\n",
            "\u001b[1m170498071/170498071\u001b[0m \u001b[32m━━━━━━━━━━━━━━━━━━━━\u001b[0m\u001b[37m\u001b[0m \u001b[1m4s\u001b[0m 0us/step\n",
            "x_train shape: (50000, 32, 32, 3) - y_train shape: (50000, 1)\n",
            "x_test shape: (10000, 32, 32, 3) - y_test shape: (10000, 1)\n"
          ]
        }
      ]
    },
    {
      "cell_type": "code",
      "source": [
        "learning_rate = 0.001\n",
        "weight_decay = 0.0001\n",
        "batch_size = 256\n",
        "num_epochs = 40\n",
        "image_size = 72  #well resize input images to this size\n",
        "patch_size = 6 #size of the patches to be extracted from input images\n",
        "num_patches = (image_size // patch_size) ** 2\n",
        "projection_dim = 64\n",
        "num_heads = 4\n",
        "transformer_units = [\n",
        "    projection_dim*2,\n",
        "    projection_dim\n",
        "] #size of the transformer layers\n",
        "transformer_layers = 8\n",
        "mlp_head_units = [2048, 1024] #size of the dense layers of the final classifier\n"
      ],
      "metadata": {
        "id": "SJKhOokLpOTR"
      },
      "execution_count": 16,
      "outputs": []
    },
    {
      "cell_type": "code",
      "source": [
        "data_augmentation = keras.Sequential(\n",
        "    [\n",
        "        layers.Normalization(),\n",
        "        layers.Resizing(image_size, image_size),\n",
        "        layers.RandomFlip(\"horizontal\"),\n",
        "        layers.RandomRotation(factor=0.2),\n",
        "        layers.RandomZoom(\n",
        "            height_factor = 0.2, width_factor = 0.2)\n",
        "    ],\n",
        "    name=\"data_augmentation\"\n",
        ")\n",
        "data_augmentation.layers[0].adapt(x_train)\n"
      ],
      "metadata": {
        "id": "hdphyTphpVDw"
      },
      "execution_count": 17,
      "outputs": []
    },
    {
      "cell_type": "code",
      "source": [
        "def mlp(x, hidden_units, dropout_rate):\n",
        "    for units in hidden_units:\n",
        "        x = layers.Dense(units, activation = tf.nn.gelu)(x)\n",
        "        x = layers.Dropout(dropout_rate)(x)\n",
        "    return x\n"
      ],
      "metadata": {
        "id": "91UUs7B3pZDf"
      },
      "execution_count": 18,
      "outputs": []
    },
    {
      "cell_type": "code",
      "source": [
        "class Patches(layers.Layer):\n",
        "    def __init__(self, patch_size):\n",
        "        super(Patches, self).__init__()   # Correct way\n",
        "        self.patch_size = patch_size\n",
        "\n",
        "    def call(self, images):\n",
        "        batch_size = tf.shape(images)[0]\n",
        "        patches = tf.image.extract_patches(\n",
        "            images=images,\n",
        "            sizes=[1, self.patch_size, self.patch_size, 1],\n",
        "            strides=[1, self.patch_size, self.patch_size, 1],\n",
        "            rates=[1,1,1,1],\n",
        "            padding=\"VALID\",\n",
        "        )\n",
        "        patch_dims = patches.shape[-1]\n",
        "        patches = tf.reshape(patches,[batch_size, -1, patch_dims])\n",
        "        return patches"
      ],
      "metadata": {
        "id": "AWbTwbIapb9V"
      },
      "execution_count": 19,
      "outputs": []
    },
    {
      "cell_type": "code",
      "source": [
        "import matplotlib.pyplot as plt\n",
        "\n",
        "plt.figure(figsize=(4,4))\n",
        "image = x_train[np.random.choice(range(x_train.shape[0]))]\n",
        "plt.imshow(image.astype(\"uint8\"))\n",
        "plt.axis(\"off\")\n",
        "\n",
        "resized_image = tf.image.resize(\n",
        "    tf.convert_to_tensor([image]), size=(image_size, image_size)\n",
        ")\n",
        "patches = Patches(patch_size)(resized_image)\n",
        "print(f\"Image size: {image_size} x {image_size}\")\n",
        "print(f\"Patch size: {patch_size} x {patch_size}\")\n",
        "print(f\"Patches per image: {patches.shape[1]}\")\n",
        "print(f\"Elements per patch: {patches.shape[-1]}\")\n",
        "\n",
        "n = int(np.sqrt(patches.shape[1]))\n",
        "plt.figure(figsize=(4,4))\n",
        "for i,patch in enumerate(patches[0]):\n",
        "    ax = plt.subplot(n, n, i+1)\n",
        "    patch_img = tf.reshape(patch, (patch_size, patch_size, 3))\n",
        "    plt.imshow(patch_img.numpy().astype(\"uint8\"))\n",
        "    plt.axis(\"off\")\n"
      ],
      "metadata": {
        "colab": {
          "base_uri": "https://localhost:8080/",
          "height": 742
        },
        "id": "EowJmdujpeQR",
        "outputId": "5c23be70-143d-4b95-e70f-2e0183b4e370"
      },
      "execution_count": 20,
      "outputs": [
        {
          "output_type": "stream",
          "name": "stdout",
          "text": [
            "Image size: 72 x 72\n",
            "Patch size: 6 x 6\n",
            "Patches per image: 144\n",
            "Elements per patch: 108\n"
          ]
        },
        {
          "output_type": "display_data",
          "data": {
            "text/plain": [
              "<Figure size 400x400 with 1 Axes>"
            ],
            "image/png": "[encoded data removed]"
          },
          "metadata": {}
        },
        {
          "output_type": "display_data",
          "data": {
            "text/plain": [
              "<Figure size 400x400 with 144 Axes>"
            ],
            "image/png": "[encoded data removed]"
          },
          "metadata": {}
        }
      ]
    },
    {
      "cell_type": "code",
      "source": [
        "class PatchEncoder(layers.Layer):\n",
        "    def __init__(self, num_patches, projection_dim):\n",
        "        super(PatchEncoder, self).__init__()\n",
        "        self.num_patches = num_patches\n",
        "        self.projection = layers.Dense(units=projection_dim)\n",
        "        self.position_embedding = layers.Embedding(\n",
        "            input_dim = num_patches, output_dim = projection_dim\n",
        "        )\n",
        "\n",
        "    def call(self, patch):\n",
        "        positions = tf.range(start=0, limit=self.num_patches, delta=1)\n",
        "        encoded = self.projection(patch) + self.position_embedding(positions)\n",
        "        return encoded\n"
      ],
      "metadata": {
        "id": "ktZYOp_qpgxU"
      },
      "execution_count": 21,
      "outputs": []
    },
    {
      "cell_type": "code",
      "source": [
        "def create_vit_classifier():\n",
        "    inputs = layers.Input(shape=input_shape)\n",
        "    # Augment data\n",
        "\n",
        "    # MODIFIED: Changed the variable name from 'augment' to 'augmented' for consistency\n",
        "    augmented = data_augmentation(inputs)\n",
        "\n",
        "    # create patches\n",
        "    # NOW THIS LINE WORKS CORRECTLY:\n",
        "    patches = Patches(patch_size)(augmented)\n",
        "\n",
        "    # Encode patches\n",
        "    encoded_patches = PatchEncoder(num_patches, projection_dim)(patches)\n",
        "\n",
        "    # create multiple layers of the transformer block\n",
        "    for _ in range(transformer_layers):\n",
        "        #layers normalization 1\n",
        "        x1 = layers.LayerNormalization(epsilon=1e-6)(encoded_patches)\n",
        "        # create a multi-head attension layer\n",
        "        attention_output = layers.MultiHeadAttention(\n",
        "            num_heads=num_heads, key_dim=projection_dim, dropout=0.1\n",
        "        )(x1,x1)\n",
        "        # skip connection 1\n",
        "        x2 = layers.Add()([attention_output, encoded_patches])\n",
        "        # layer normalization 2\n",
        "        x3 = layers.LayerNormalization(epsilon=1e-6)(x2)\n",
        "        #MLP\n",
        "        x3 = mlp(x3, hidden_units=transformer_units, dropout_rate=0.1)\n",
        "        # skip connection2\n",
        "        encoded_patches = layers.Add()([x3, x2])\n",
        "\n",
        "    #create a [batch_size, projection_dim] tensor\n",
        "    representation = layers.LayerNormalization(epsilon=1e-6)(encoded_patches)\n",
        "    representation = layers.Flatten()(representation)\n",
        "    representation = layers.Dropout(0.5)(representation)\n",
        "\n",
        "    # Add MLP\n",
        "    features = mlp(representation, hidden_units=mlp_head_units, dropout_rate=0.5)\n",
        "    #classify outputs\n",
        "    logits = layers.Dense(num_classes)(features)\n",
        "    # create keras Model\n",
        "    model = keras.Model(inputs=inputs, outputs=logits) # FIXED: Typo 'inouts' -> 'inputs'\n",
        "    return model\n"
      ],
      "metadata": {
        "id": "pNbregQSpk4k"
      },
      "execution_count": 22,
      "outputs": []
    },
    {
      "cell_type": "code",
      "source": [
        "def run_experiment(model):\n",
        "    optimizer = keras.optimizers.AdamW(\n",
        "        learning_rate=learning_rate, weight_decay=weight_decay\n",
        "    )\n",
        "\n",
        "    model.compile(\n",
        "        optimizer=optimizer,\n",
        "        loss=keras.losses.SparseCategoricalCrossentropy(from_logits=True),\n",
        "        metrics=[\n",
        "            keras.metrics.SparseCategoricalAccuracy(name=\"accuracy\"),\n",
        "            keras.metrics.SparseTopKCategoricalAccuracy(name=\"top_5_accuracy\"),\n",
        "        ],\n",
        "    )\n",
        "\n",
        "    checkpoint_filepath = \"./tmp/checkpoint.weights.h5\"\n",
        "    checkpoint_callback = keras.callbacks.ModelCheckpoint(\n",
        "        checkpoint_filepath,\n",
        "        monitor=\"val_accuracy\",\n",
        "        save_best_only=True,\n",
        "        save_weights_only=True,\n",
        "    )\n",
        "\n",
        "    history = model.fit(\n",
        "        x=x_train,\n",
        "        y=y_train,\n",
        "        batch_size=batch_size,\n",
        "        epochs=num_epochs,\n",
        "        validation_split=0.1,\n",
        "        callbacks=[checkpoint_callback],\n",
        "    )\n",
        "\n",
        "    model.load_weights(checkpoint_filepath)\n",
        "    _, accuracy, top_5_accuracy = model.evaluate(x_test, y_test)\n",
        "    print(f\"Test accuracy: {round(accuracy* 100,2)}%\")\n",
        "    print(f\"Test Top 5 accuracy: {round(top_5_accuracy*100, 2)}%\")\n"
      ],
      "metadata": {
        "id": "2vXp-HQgpotv"
      },
      "execution_count": 33,
      "outputs": []
    },
    {
      "cell_type": "code",
      "source": [
        "vit_classifier = create_vit_classifier()\n",
        "history = run_experiment(vit_classifier)"
      ],
      "metadata": {
        "colab": {
          "base_uri": "https://localhost:8080/"
        },
        "id": "SVmdUgaupspE",
        "outputId": "a424660a-e641-4cdf-b127-423d7a30dd8b"
      },
      "execution_count": 34,
      "outputs": [
        {
          "output_type": "stream",
          "name": "stdout",
          "text": [
            "Epoch 1/40\n",
            "\u001b[1m176/176\u001b[0m \u001b[32m━━━━━━━━━━━━━━━━━━━━\u001b[0m\u001b[37m\u001b[0m \u001b[1m100s\u001b[0m 397ms/step - accuracy: 0.2177 - loss: 2.7105 - top_5_accuracy: 0.7124 - val_accuracy: 0.4006 - val_loss: 1.6755 - val_top_5_accuracy: 0.8818\n",
            "Epoch 2/40\n",
            "\u001b[1m176/176\u001b[0m \u001b[32m━━━━━━━━━━━━━━━━━━━━\u001b[0m\u001b[37m\u001b[0m \u001b[1m80s\u001b[0m 411ms/step - accuracy: 0.3572 - loss: 1.7910 - top_5_accuracy: 0.8477 - val_accuracy: 0.4662 - val_loss: 1.4853 - val_top_5_accuracy: 0.9086\n",
            "Epoch 3/40\n",
            "\u001b[1m176/176\u001b[0m \u001b[32m━━━━━━━━━━━━━━━━━━━━\u001b[0m\u001b[37m\u001b[0m \u001b[1m82s\u001b[0m 413ms/step - accuracy: 0.4106 - loss: 1.6372 - top_5_accuracy: 0.8837 - val_accuracy: 0.4930 - val_loss: 1.3910 - val_top_5_accuracy: 0.9312\n",
            "Epoch 4/40\n",
            "\u001b[1m176/176\u001b[0m \u001b[32m━━━━━━━━━━━━━━━━━━━━\u001b[0m\u001b[37m\u001b[0m \u001b[1m78s\u001b[0m 388ms/step - accuracy: 0.4499 - loss: 1.5332 - top_5_accuracy: 0.9024 - val_accuracy: 0.5418 - val_loss: 1.2889 - val_top_5_accuracy: 0.9432\n",
            "Epoch 5/40\n",
            "\u001b[1m176/176\u001b[0m \u001b[32m━━━━━━━━━━━━━━━━━━━━\u001b[0m\u001b[37m\u001b[0m \u001b[1m86s\u001b[0m 412ms/step - accuracy: 0.4682 - loss: 1.4793 - top_5_accuracy: 0.9100 - val_accuracy: 0.5586 - val_loss: 1.2292 - val_top_5_accuracy: 0.9548\n",
            "Epoch 6/40\n",
            "\u001b[1m176/176\u001b[0m \u001b[32m━━━━━━━━━━━━━━━━━━━━\u001b[0m\u001b[37m\u001b[0m \u001b[1m74s\u001b[0m 419ms/step - accuracy: 0.4888 - loss: 1.4459 - top_5_accuracy: 0.9178 - val_accuracy: 0.5834 - val_loss: 1.2014 - val_top_5_accuracy: 0.9498\n",
            "Epoch 7/40\n",
            "\u001b[1m176/176\u001b[0m \u001b[32m━━━━━━━━━━━━━━━━━━━━\u001b[0m\u001b[37m\u001b[0m \u001b[1m75s\u001b[0m 382ms/step - accuracy: 0.5038 - loss: 1.3919 - top_5_accuracy: 0.9241 - val_accuracy: 0.5750 - val_loss: 1.1875 - val_top_5_accuracy: 0.9504\n",
            "Epoch 8/40\n",
            "\u001b[1m176/176\u001b[0m \u001b[32m━━━━━━━━━━━━━━━━━━━━\u001b[0m\u001b[37m\u001b[0m \u001b[1m67s\u001b[0m 380ms/step - accuracy: 0.5226 - loss: 1.3572 - top_5_accuracy: 0.9264 - val_accuracy: 0.5804 - val_loss: 1.1578 - val_top_5_accuracy: 0.9512\n",
            "Epoch 9/40\n",
            "\u001b[1m176/176\u001b[0m \u001b[32m━━━━━━━━━━━━━━━━━━━━\u001b[0m\u001b[37m\u001b[0m \u001b[1m89s\u001b[0m 421ms/step - accuracy: 0.5311 - loss: 1.3217 - top_5_accuracy: 0.9348 - val_accuracy: 0.6048 - val_loss: 1.1056 - val_top_5_accuracy: 0.9600\n",
            "Epoch 10/40\n",
            "\u001b[1m176/176\u001b[0m \u001b[32m━━━━━━━━━━━━━━━━━━━━\u001b[0m\u001b[37m\u001b[0m \u001b[1m75s\u001b[0m 381ms/step - accuracy: 0.5422 - loss: 1.2968 - top_5_accuracy: 0.9346 - val_accuracy: 0.6044 - val_loss: 1.1176 - val_top_5_accuracy: 0.9548\n",
            "Epoch 11/40\n",
            "\u001b[1m176/176\u001b[0m \u001b[32m━━━━━━━━━━━━━━━━━━━━\u001b[0m\u001b[37m\u001b[0m \u001b[1m73s\u001b[0m 413ms/step - accuracy: 0.5527 - loss: 1.2690 - top_5_accuracy: 0.9386 - val_accuracy: 0.6214 - val_loss: 1.0777 - val_top_5_accuracy: 0.9604\n",
            "Epoch 12/40\n",
            "\u001b[1m176/176\u001b[0m \u001b[32m━━━━━━━━━━━━━━━━━━━━\u001b[0m\u001b[37m\u001b[0m \u001b[1m80s\u001b[0m 402ms/step - accuracy: 0.5605 - loss: 1.2543 - top_5_accuracy: 0.9395 - val_accuracy: 0.6320 - val_loss: 1.0312 - val_top_5_accuracy: 0.9642\n",
            "Epoch 13/40\n",
            "\u001b[1m176/176\u001b[0m \u001b[32m━━━━━━━━━━━━━━━━━━━━\u001b[0m\u001b[37m\u001b[0m \u001b[1m84s\u001b[0m 414ms/step - accuracy: 0.5688 - loss: 1.2310 - top_5_accuracy: 0.9414 - val_accuracy: 0.6336 - val_loss: 1.0522 - val_top_5_accuracy: 0.9628\n",
            "Epoch 14/40\n",
            "\u001b[1m176/176\u001b[0m \u001b[32m━━━━━━━━━━━━━━━━━━━━\u001b[0m\u001b[37m\u001b[0m \u001b[1m82s\u001b[0m 415ms/step - accuracy: 0.5782 - loss: 1.2061 - top_5_accuracy: 0.9432 - val_accuracy: 0.6436 - val_loss: 1.0209 - val_top_5_accuracy: 0.9672\n",
            "Epoch 15/40\n",
            "\u001b[1m176/176\u001b[0m \u001b[32m━━━━━━━━━━━━━━━━━━━━\u001b[0m\u001b[37m\u001b[0m \u001b[1m82s\u001b[0m 416ms/step - accuracy: 0.5850 - loss: 1.1757 - top_5_accuracy: 0.9475 - val_accuracy: 0.6494 - val_loss: 0.9919 - val_top_5_accuracy: 0.9650\n",
            "Epoch 16/40\n",
            "\u001b[1m176/176\u001b[0m \u001b[32m━━━━━━━━━━━━━━━━━━━━\u001b[0m\u001b[37m\u001b[0m \u001b[1m82s\u001b[0m 416ms/step - accuracy: 0.5967 - loss: 1.1570 - top_5_accuracy: 0.9482 - val_accuracy: 0.6604 - val_loss: 0.9698 - val_top_5_accuracy: 0.9668\n",
            "Epoch 17/40\n",
            "\u001b[1m176/176\u001b[0m \u001b[32m━━━━━━━━━━━━━━━━━━━━\u001b[0m\u001b[37m\u001b[0m \u001b[1m82s\u001b[0m 416ms/step - accuracy: 0.6000 - loss: 1.1416 - top_5_accuracy: 0.9500 - val_accuracy: 0.6656 - val_loss: 0.9563 - val_top_5_accuracy: 0.9702\n",
            "Epoch 18/40\n",
            "\u001b[1m176/176\u001b[0m \u001b[32m━━━━━━━━━━━━━━━━━━━━\u001b[0m\u001b[37m\u001b[0m \u001b[1m76s\u001b[0m 381ms/step - accuracy: 0.6079 - loss: 1.1200 - top_5_accuracy: 0.9533 - val_accuracy: 0.6620 - val_loss: 0.9487 - val_top_5_accuracy: 0.9686\n",
            "Epoch 19/40\n",
            "\u001b[1m176/176\u001b[0m \u001b[32m━━━━━━━━━━━━━━━━━━━━\u001b[0m\u001b[37m\u001b[0m \u001b[1m88s\u001b[0m 418ms/step - accuracy: 0.6165 - loss: 1.0969 - top_5_accuracy: 0.9538 - val_accuracy: 0.6672 - val_loss: 0.9589 - val_top_5_accuracy: 0.9718\n",
            "Epoch 20/40\n",
            "\u001b[1m176/176\u001b[0m \u001b[32m━━━━━━━━━━━━━━━━━━━━\u001b[0m\u001b[37m\u001b[0m \u001b[1m74s\u001b[0m 419ms/step - accuracy: 0.6178 - loss: 1.0916 - top_5_accuracy: 0.9555 - val_accuracy: 0.6720 - val_loss: 0.9266 - val_top_5_accuracy: 0.9750\n",
            "Epoch 21/40\n",
            "\u001b[1m176/176\u001b[0m \u001b[32m━━━━━━━━━━━━━━━━━━━━\u001b[0m\u001b[37m\u001b[0m \u001b[1m67s\u001b[0m 379ms/step - accuracy: 0.6255 - loss: 1.0718 - top_5_accuracy: 0.9579 - val_accuracy: 0.6598 - val_loss: 0.9427 - val_top_5_accuracy: 0.9718\n",
            "Epoch 22/40\n",
            "\u001b[1m176/176\u001b[0m \u001b[32m━━━━━━━━━━━━━━━━━━━━\u001b[0m\u001b[37m\u001b[0m \u001b[1m89s\u001b[0m 420ms/step - accuracy: 0.6318 - loss: 1.0596 - top_5_accuracy: 0.9587 - val_accuracy: 0.6774 - val_loss: 0.9265 - val_top_5_accuracy: 0.9708\n",
            "Epoch 23/40\n",
            "\u001b[1m176/176\u001b[0m \u001b[32m━━━━━━━━━━━━━━━━━━━━\u001b[0m\u001b[37m\u001b[0m \u001b[1m82s\u001b[0m 420ms/step - accuracy: 0.6358 - loss: 1.0504 - top_5_accuracy: 0.9596 - val_accuracy: 0.6806 - val_loss: 0.8993 - val_top_5_accuracy: 0.9740\n",
            "Epoch 24/40\n",
            "\u001b[1m176/176\u001b[0m \u001b[32m━━━━━━━━━━━━━━━━━━━━\u001b[0m\u001b[37m\u001b[0m \u001b[1m82s\u001b[0m 421ms/step - accuracy: 0.6433 - loss: 1.0288 - top_5_accuracy: 0.9614 - val_accuracy: 0.6866 - val_loss: 0.9037 - val_top_5_accuracy: 0.9754\n",
            "Epoch 25/40\n",
            "\u001b[1m176/176\u001b[0m \u001b[32m━━━━━━━━━━━━━━━━━━━━\u001b[0m\u001b[37m\u001b[0m \u001b[1m75s\u001b[0m 382ms/step - accuracy: 0.6487 - loss: 1.0047 - top_5_accuracy: 0.9623 - val_accuracy: 0.6768 - val_loss: 0.9267 - val_top_5_accuracy: 0.9730\n",
            "Epoch 26/40\n",
            "\u001b[1m176/176\u001b[0m \u001b[32m━━━━━━━━━━━━━━━━━━━━\u001b[0m\u001b[37m\u001b[0m \u001b[1m82s\u001b[0m 382ms/step - accuracy: 0.6473 - loss: 1.0071 - top_5_accuracy: 0.9637 - val_accuracy: 0.6830 - val_loss: 0.8944 - val_top_5_accuracy: 0.9742\n",
            "Epoch 27/40\n",
            "\u001b[1m176/176\u001b[0m \u001b[32m━━━━━━━━━━━━━━━━━━━━\u001b[0m\u001b[37m\u001b[0m \u001b[1m88s\u001b[0m 417ms/step - accuracy: 0.6540 - loss: 1.0018 - top_5_accuracy: 0.9635 - val_accuracy: 0.6950 - val_loss: 0.8809 - val_top_5_accuracy: 0.9738\n",
            "Epoch 28/40\n",
            "\u001b[1m176/176\u001b[0m \u001b[32m━━━━━━━━━━━━━━━━━━━━\u001b[0m\u001b[37m\u001b[0m \u001b[1m81s\u001b[0m 412ms/step - accuracy: 0.6594 - loss: 0.9772 - top_5_accuracy: 0.9655 - val_accuracy: 0.6980 - val_loss: 0.8557 - val_top_5_accuracy: 0.9748\n",
            "Epoch 29/40\n",
            "\u001b[1m176/176\u001b[0m \u001b[32m━━━━━━━━━━━━━━━━━━━━\u001b[0m\u001b[37m\u001b[0m \u001b[1m79s\u001b[0m 394ms/step - accuracy: 0.6661 - loss: 0.9703 - top_5_accuracy: 0.9645 - val_accuracy: 0.7140 - val_loss: 0.8340 - val_top_5_accuracy: 0.9794\n",
            "Epoch 30/40\n",
            "\u001b[1m176/176\u001b[0m \u001b[32m━━━━━━━━━━━━━━━━━━━━\u001b[0m\u001b[37m\u001b[0m \u001b[1m80s\u001b[0m 381ms/step - accuracy: 0.6642 - loss: 0.9629 - top_5_accuracy: 0.9661 - val_accuracy: 0.7082 - val_loss: 0.8299 - val_top_5_accuracy: 0.9818\n",
            "Epoch 31/40\n",
            "\u001b[1m176/176\u001b[0m \u001b[32m━━━━━━━━━━━━━━━━━━━━\u001b[0m\u001b[37m\u001b[0m \u001b[1m82s\u001b[0m 380ms/step - accuracy: 0.6688 - loss: 0.9484 - top_5_accuracy: 0.9671 - val_accuracy: 0.7018 - val_loss: 0.8294 - val_top_5_accuracy: 0.9752\n",
            "Epoch 32/40\n",
            "\u001b[1m176/176\u001b[0m \u001b[32m━━━━━━━━━━━━━━━━━━━━\u001b[0m\u001b[37m\u001b[0m \u001b[1m82s\u001b[0m 381ms/step - accuracy: 0.6759 - loss: 0.9301 - top_5_accuracy: 0.9687 - val_accuracy: 0.7058 - val_loss: 0.8297 - val_top_5_accuracy: 0.9776\n",
            "Epoch 33/40\n",
            "\u001b[1m176/176\u001b[0m \u001b[32m━━━━━━━━━━━━━━━━━━━━\u001b[0m\u001b[37m\u001b[0m \u001b[1m87s\u001b[0m 413ms/step - accuracy: 0.6818 - loss: 0.9100 - top_5_accuracy: 0.9703 - val_accuracy: 0.7202 - val_loss: 0.8008 - val_top_5_accuracy: 0.9790\n",
            "Epoch 34/40\n",
            "\u001b[1m176/176\u001b[0m \u001b[32m━━━━━━━━━━━━━━━━━━━━\u001b[0m\u001b[37m\u001b[0m \u001b[1m76s\u001b[0m 381ms/step - accuracy: 0.6853 - loss: 0.9049 - top_5_accuracy: 0.9708 - val_accuracy: 0.7114 - val_loss: 0.8157 - val_top_5_accuracy: 0.9808\n",
            "Epoch 35/40\n",
            "\u001b[1m176/176\u001b[0m \u001b[32m━━━━━━━━━━━━━━━━━━━━\u001b[0m\u001b[37m\u001b[0m \u001b[1m82s\u001b[0m 381ms/step - accuracy: 0.6875 - loss: 0.8901 - top_5_accuracy: 0.9714 - val_accuracy: 0.7184 - val_loss: 0.7965 - val_top_5_accuracy: 0.9798\n",
            "Epoch 36/40\n",
            "\u001b[1m176/176\u001b[0m \u001b[32m━━━━━━━━━━━━━━━━━━━━\u001b[0m\u001b[37m\u001b[0m \u001b[1m88s\u001b[0m 416ms/step - accuracy: 0.6986 - loss: 0.8712 - top_5_accuracy: 0.9730 - val_accuracy: 0.7246 - val_loss: 0.7967 - val_top_5_accuracy: 0.9804\n",
            "Epoch 37/40\n",
            "\u001b[1m176/176\u001b[0m \u001b[32m━━━━━━━━━━━━━━━━━━━━\u001b[0m\u001b[37m\u001b[0m \u001b[1m82s\u001b[0m 416ms/step - accuracy: 0.6924 - loss: 0.8824 - top_5_accuracy: 0.9714 - val_accuracy: 0.7304 - val_loss: 0.7719 - val_top_5_accuracy: 0.9818\n",
            "Epoch 38/40\n",
            "\u001b[1m176/176\u001b[0m \u001b[32m━━━━━━━━━━━━━━━━━━━━\u001b[0m\u001b[37m\u001b[0m \u001b[1m76s\u001b[0m 382ms/step - accuracy: 0.6970 - loss: 0.8688 - top_5_accuracy: 0.9732 - val_accuracy: 0.7184 - val_loss: 0.8009 - val_top_5_accuracy: 0.9786\n",
            "Epoch 39/40\n",
            "\u001b[1m176/176\u001b[0m \u001b[32m━━━━━━━━━━━━━━━━━━━━\u001b[0m\u001b[37m\u001b[0m \u001b[1m88s\u001b[0m 418ms/step - accuracy: 0.7028 - loss: 0.8548 - top_5_accuracy: 0.9740 - val_accuracy: 0.7314 - val_loss: 0.7783 - val_top_5_accuracy: 0.9786\n",
            "Epoch 40/40\n",
            "\u001b[1m176/176\u001b[0m \u001b[32m━━━━━━━━━━━━━━━━━━━━\u001b[0m\u001b[37m\u001b[0m \u001b[1m77s\u001b[0m 389ms/step - accuracy: 0.7035 - loss: 0.8538 - top_5_accuracy: 0.9743 - val_accuracy: 0.7316 - val_loss: 0.7645 - val_top_5_accuracy: 0.9822\n",
            "\u001b[1m313/313\u001b[0m \u001b[32m━━━━━━━━━━━━━━━━━━━━\u001b[0m\u001b[37m\u001b[0m \u001b[1m6s\u001b[0m 18ms/step - accuracy: 0.7205 - loss: 0.7888 - top_5_accuracy: 0.9750\n",
            "Test accuracy: 72.08%\n",
            "Test Top 5 accuracy: 97.84%\n"
          ]
        }
      ]
    },
    {
      "cell_type": "code",
      "source": [
        "class_names = [\n",
        "    \"airplane\",\n",
        "    \"automobile\",\n",
        "    \"bird\",\n",
        "    \"cat\",\n",
        "    \"deer\",\n",
        "    \"dog\",\n",
        "    \"frog\",\n",
        "    \"horse\",\n",
        "    \"ship\",\n",
        "    \"truck\",\n",
        "]"
      ],
      "metadata": {
        "id": "ASpx2qnqpu6P"
      },
      "execution_count": 39,
      "outputs": []
    },
    {
      "cell_type": "code",
      "source": [
        "def img_predict(image, model):\n",
        "    # Add a batch dimension because the model expects it: (32, 32, 3) -> (1, 32, 32, 3)\n",
        "    image_batch = np.expand_dims(image, axis=0)\n",
        "\n",
        "    # Get model predictions\n",
        "    out = model.predict(image_batch)\n",
        "\n",
        "    # Get the index of the highest probability\n",
        "    prediction_index = np.argmax(out, axis=1)\n",
        "\n",
        "    # Look up the class name using the index\n",
        "    predicted_class = class_names[prediction_index[0]]\n",
        "\n",
        "    return predicted_class"
      ],
      "metadata": {
        "id": "D_Du0Fu25d5E"
      },
      "execution_count": 40,
      "outputs": []
    },
    {
      "cell_type": "code",
      "source": [
        "# --- Example Usage ---\n",
        "# Pick an image from the test set\n",
        "index = 14\n",
        "plt.imshow(x_test[index])\n",
        "plt.axis(\"off\")\n",
        "plt.show()\n",
        "\n",
        "# Get the prediction\n",
        "prediction = img_predict(x_test[index], vit_classifier)\n",
        "print(f\"The image is classified as: {prediction}\")"
      ],
      "metadata": {
        "colab": {
          "base_uri": "https://localhost:8080/",
          "height": 441
        },
        "id": "I4MGp0Xf6VVv",
        "outputId": "c11e4de0-97e8-40a2-ff2d-8c84c39a7bf5"
      },
      "execution_count": 41,
      "outputs": [
        {
          "output_type": "display_data",
          "data": {
            "text/plain": [
              "<Figure size 640x480 with 1 Axes>"
            ],
            "image/png": "[encoded data removed]"
          },
          "metadata": {}
        },
        {
          "output_type": "stream",
          "name": "stdout",
          "text": [
            "\u001b[1m1/1\u001b[0m \u001b[32m━━━━━━━━━━━━━━━━━━━━\u001b[0m\u001b[37m\u001b[0m \u001b[1m0s\u001b[0m 33ms/step\n",
            "The image is classified as: truck\n"
          ]
        }
      ]
    },
    {
      "cell_type": "code",
      "source": [],
      "metadata": {
        "id": "pIodOKSC68aU"
      },
      "execution_count": null,
      "outputs": []
    }
  ]
}